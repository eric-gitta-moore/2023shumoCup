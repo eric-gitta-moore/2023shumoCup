{
 "cells": [
  {
   "cell_type": "code",
   "execution_count": 9,
   "metadata": {
    "collapsed": true,
    "ExecuteTime": {
     "end_time": "2023-05-28T14:24:30.086196500Z",
     "start_time": "2023-05-28T14:24:30.065969200Z"
    }
   },
   "outputs": [],
   "source": [
    "import random\n",
    "\n",
    "import pandas as pd\n",
    "import numpy as np\n",
    "import seaborn as sns\n",
    "import matplotlib.pyplot as plt\n",
    "from algorithm import ewm\n",
    "\n",
    "plt.rcParams['font.sans-serif'] = ['SimHei']  # 黑体\n",
    "plt.rcParams['axes.unicode_minus'] = False  # 解决无法显示符号的问题\n",
    "palette = 'deep'\n",
    "sns.set(font='SimHei', font_scale=1.2, palette=palette)  # 解决Seaborn中文显示问题"
   ]
  },
  {
   "cell_type": "markdown",
   "source": [
    "# 指标流向桑基图"
   ],
   "metadata": {
    "collapsed": false
   }
  },
  {
   "cell_type": "code",
   "execution_count": 10,
   "outputs": [],
   "source": [
    "指标dict = {'对AI的需求程度(Q1)': {'13、您是否有通过人工智能学习工具帮助完成作业的想法？': 0.19105317366172253,\n",
    "                                   '14、您是否有通过人工智能学习工具帮您完成小测验的想法？': 0.19664015955938982,\n",
    "                                   '15、您是否有通过人工智能学习工具帮助您完成论文的想法？': 0.19938279938254982,\n",
    "                                   '17、对于大学生使用人工智能学习工具您是否赞同？': 0.17631193373822923,\n",
    "                                   '19、您对人工智能学习工具回答问题的可信度持何种态度？': 0.06708662266985567,\n",
    "                                   '28、您认为以下哪些方面对人工智能学习工具很重要？': 0.1695253109882529},\n",
    "            '对网络认识的深度(Q2)': {'6、您每周的上网时长大约是多少？': 0.1403419234605448,\n",
    "                                     '8、您是在什么时间使用学习软件工具呢？': 0.31717770181857213,\n",
    "                                     '9、您会将自己的资料传到网上和别人进行分享吗？': 0.28769988362344334,\n",
    "                                     '23、在网络中您主要进行哪些活动？': 0.2547804910974397},\n",
    "            '倾向于使用软件进行的程度(Q3)': {'7、您是否使用过学习软件工具？': 0.028447728076381462,\n",
    "                                             '8、您是在什么时间使用学习软件工具呢？': 0.1687554730848213,\n",
    "                                             '11、您的老师是否推荐过同学们使用过某种学习软件？': 0.23926174103511505,\n",
    "                                             '19、您对人工智能学习工具回答问题的可信度持何种态度？': 0.07500130854131419,\n",
    "                                             '26、对于利用学习软件进行学习这种形式，您最关注的是': 0.1950224352439973,\n",
    "                                             '30、您认为人工智能学习工具融合到哪个学习环节？': 0.2935113140183707},\n",
    "            '对学习的热爱程度(Q4)': {'9、您会将自己的资料传到网上和别人进行分享吗？': 0.22513523583207265,\n",
    "                                     '10、您是否想获取全国各高校的学习资源？': 0.0863678144869296,\n",
    "                                     '12、若有人工智能学习工具，您是否会选择使用？': 0.14794123510520563,\n",
    "                                     '20、如果您使用人工智能学习工具，更希望得到什么的效果？': 0.16590937138248837,\n",
    "                                     '25、进入大学后在学习中困扰您的问题是什么？': 0.37464634319330375},\n",
    "            '对AI的认可程度(Q5)': {'21、您觉得人工智能工具在未来是否可以取代教师？': 0.1331488938110052,\n",
    "                                   '22、当人工智能工具与教育结合到一定程度时，您觉得学生该如何去适应？': 0.025091356399884576,\n",
    "                                   '24、您认为学习软件与课堂教学相比较最大的优势是什么？': 0.3259334222504339,\n",
    "                                   '27、您考虑过使用人工智能工具的哪些安全性？': 0.1977442142638257,\n",
    "                                   '30、您认为人工智能学习工具融合到哪个学习环节？': 0.3180821132748506}}"
   ],
   "metadata": {
    "collapsed": false,
    "ExecuteTime": {
     "end_time": "2023-05-28T14:24:30.107196500Z",
     "start_time": "2023-05-28T14:24:30.073431300Z"
    }
   }
  },
  {
   "cell_type": "code",
   "execution_count": 11,
   "outputs": [
    {
     "name": "stdout",
     "output_type": "stream",
     "text": [
      "['13、您是否有通过人工智能学习工具帮助完成作业的想法？', '14、您是否有通过人工智能学习工具帮您完成小测验的想法？', '15、您是否有通过人工智能学习工具帮助您完成论文的想法？', '17、对于大学生使用人工智能学习工具您是否赞同？', '19、您对人工智能学习工具回答问题的可信度持何种态度？', '28、您认为以下哪些方面对人工智能学习工具很重要？', '6、您每周的上网时长大约是多少？', '8、您是在什么时间使用学习软件工具呢？', '9、您会将自己的资料传到网上和别人进行分享吗？', '23、在网络中您主要进行哪些活动？', '7、您是否使用过学习软件工具？', '8、您是在什么时间使用学习软件工具呢？', '11、您的老师是否推荐过同学们使用过某种学习软件？', '19、您对人工智能学习工具回答问题的可信度持何种态度？', '26、对于利用学习软件进行学习这种形式，您最关注的是', '30、您认为人工智能学习工具融合到哪个学习环节？', '9、您会将自己的资料传到网上和别人进行分享吗？', '10、您是否想获取全国各高校的学习资源？', '12、若有人工智能学习工具，您是否会选择使用？', '20、如果您使用人工智能学习工具，更希望得到什么的效果？', '25、进入大学后在学习中困扰您的问题是什么？', '21、您觉得人工智能工具在未来是否可以取代教师？', '22、当人工智能工具与教育结合到一定程度时，您觉得学生该如何去适应？', '24、您认为学习软件与课堂教学相比较最大的优势是什么？', '27、您考虑过使用人工智能工具的哪些安全性？', '30、您认为人工智能学习工具融合到哪个学习环节？', '对AI的需求程度(Q1)', '对网络认识的深度(Q2)', '倾向于使用软件进行的程度(Q3)', '对学习的热爱程度(Q4)', '对AI的认可程度(Q5)', '总分'] 32\n"
     ]
    }
   ],
   "source": [
    "nodes = [x for i in map(lambda x: x.keys(), 指标dict.values()) for x in i] + list(指标dict.keys()) + ['总分']\n",
    "print(nodes, len(nodes))"
   ],
   "metadata": {
    "collapsed": false,
    "ExecuteTime": {
     "end_time": "2023-05-28T14:24:30.108196300Z",
     "start_time": "2023-05-28T14:24:30.089196600Z"
    }
   }
  },
  {
   "cell_type": "code",
   "execution_count": 12,
   "outputs": [
    {
     "name": "stdout",
     "output_type": "stream",
     "text": [
      "[0.19105317366172253, 0.19664015955938982, 0.19938279938254982, 0.17631193373822923, 0.06708662266985567, 0.1695253109882529, 0.1403419234605448, 0.31717770181857213, 0.28769988362344334, 0.2547804910974397, 0.028447728076381462, 0.1687554730848213, 0.23926174103511505, 0.07500130854131419, 0.1950224352439973, 0.2935113140183707, 0.22513523583207265, 0.0863678144869296, 0.14794123510520563, 0.16590937138248837, 0.37464634319330375, 0.1331488938110052, 0.025091356399884576, 0.3259334222504339, 0.1977442142638257, 0.3180821132748506, 0.23691834002774398, 0.1265049169251752, 0.19320241159128132, 0.14435884829203316, 0.29901548316376636] 31\n"
     ]
    }
   ],
   "source": [
    "link_value = [x for i in map(lambda x: x.values(), 指标dict.values()) for x in i]\n",
    "\n",
    "link_value += [0.23691834002774398, 0.1265049169251752, 0.19320241159128132, 0.14435884829203316,\n",
    "               0.29901548316376636]\n",
    "print(link_value, len(link_value))"
   ],
   "metadata": {
    "collapsed": false,
    "ExecuteTime": {
     "end_time": "2023-05-28T14:24:30.118196900Z",
     "start_time": "2023-05-28T14:24:30.104196700Z"
    }
   }
  },
  {
   "cell_type": "code",
   "execution_count": 13,
   "outputs": [
    {
     "name": "stdout",
     "output_type": "stream",
     "text": [
      "[0, 1, 2, 3, 4, 5, 6, 7, 8, 9, 10, 7, 12, 4, 14, 15, 8, 17, 18, 19, 20, 21, 22, 23, 24, 15, 26, 27, 28, 29, 30] 31\n",
      "[26, 26, 26, 26, 26, 26, 27, 27, 27, 27, 28, 28, 28, 28, 28, 28, 29, 29, 29, 29, 29, 30, 30, 30, 30, 30, 31, 31, 31, 31, 31] 31\n"
     ]
    }
   ],
   "source": [
    "# 定义节点和链接\n",
    "link_source = []\n",
    "link_target = []\n",
    "for k1, v1 in 指标dict.items():\n",
    "    for k2, v2 in v1.items():\n",
    "        link_source.append(nodes.index(k2))\n",
    "        link_target.append(nodes.index(k1))\n",
    "\n",
    "link_source += [nodes.index(i) for i in 指标dict.keys()]\n",
    "link_target += [nodes.index('总分')] * len(指标dict)\n",
    "\n",
    "print(link_source, len(link_source))\n",
    "print(link_target, len(link_target))"
   ],
   "metadata": {
    "collapsed": false,
    "ExecuteTime": {
     "end_time": "2023-05-28T14:24:30.163200600Z",
     "start_time": "2023-05-28T14:24:30.121201800Z"
    }
   }
  },
  {
   "cell_type": "code",
   "execution_count": 14,
   "outputs": [
    {
     "data": {
      "application/vnd.plotly.v1+json": {
       "data": [
        {
         "link": {
          "source": [
           0,
           1,
           2,
           3,
           4,
           5,
           6,
           7,
           8,
           9,
           10,
           7,
           12,
           4,
           14,
           15,
           8,
           17,
           18,
           19,
           20,
           21,
           22,
           23,
           24,
           15,
           26,
           27,
           28,
           29,
           30
          ],
          "target": [
           26,
           26,
           26,
           26,
           26,
           26,
           27,
           27,
           27,
           27,
           28,
           28,
           28,
           28,
           28,
           28,
           29,
           29,
           29,
           29,
           29,
           30,
           30,
           30,
           30,
           30,
           31,
           31,
           31,
           31,
           31
          ],
          "value": [
           0.19105317366172253,
           0.19664015955938982,
           0.19938279938254982,
           0.17631193373822923,
           0.06708662266985567,
           0.1695253109882529,
           0.1403419234605448,
           0.31717770181857213,
           0.28769988362344334,
           0.2547804910974397,
           0.028447728076381462,
           0.1687554730848213,
           0.23926174103511505,
           0.07500130854131419,
           0.1950224352439973,
           0.2935113140183707,
           0.22513523583207265,
           0.0863678144869296,
           0.14794123510520563,
           0.16590937138248837,
           0.37464634319330375,
           0.1331488938110052,
           0.025091356399884576,
           0.3259334222504339,
           0.1977442142638257,
           0.3180821132748506,
           0.23691834002774398,
           0.1265049169251752,
           0.19320241159128132,
           0.14435884829203316,
           0.29901548316376636
          ]
         },
         "node": {
          "label": [
           "13、您是否有通过人工智能学习工具帮助完成作业的想法？",
           "14、您是否有通过人工智能学习工具帮您完成小测验的想法？",
           "15、您是否有通过人工智能学习工具帮助您完成论文的想法？",
           "17、对于大学生使用人工智能学习工具您是否赞同？",
           "19、您对人工智能学习工具回答问题的可信度持何种态度？",
           "28、您认为以下哪些方面对人工智能学习工具很重要？",
           "6、您每周的上网时长大约是多少？",
           "8、您是在什么时间使用学习软件工具呢？",
           "9、您会将自己的资料传到网上和别人进行分享吗？",
           "23、在网络中您主要进行哪些活动？",
           "7、您是否使用过学习软件工具？",
           "8、您是在什么时间使用学习软件工具呢？",
           "11、您的老师是否推荐过同学们使用过某种学习软件？",
           "19、您对人工智能学习工具回答问题的可信度持何种态度？",
           "26、对于利用学习软件进行学习这种形式，您最关注的是",
           "30、您认为人工智能学习工具融合到哪个学习环节？",
           "9、您会将自己的资料传到网上和别人进行分享吗？",
           "10、您是否想获取全国各高校的学习资源？",
           "12、若有人工智能学习工具，您是否会选择使用？",
           "20、如果您使用人工智能学习工具，更希望得到什么的效果？",
           "25、进入大学后在学习中困扰您的问题是什么？",
           "21、您觉得人工智能工具在未来是否可以取代教师？",
           "22、当人工智能工具与教育结合到一定程度时，您觉得学生该如何去适应？",
           "24、您认为学习软件与课堂教学相比较最大的优势是什么？",
           "27、您考虑过使用人工智能工具的哪些安全性？",
           "30、您认为人工智能学习工具融合到哪个学习环节？",
           "对AI的需求程度(Q1)",
           "对网络认识的深度(Q2)",
           "倾向于使用软件进行的程度(Q3)",
           "对学习的热爱程度(Q4)",
           "对AI的认可程度(Q5)",
           "总分"
          ],
          "pad": 15,
          "thickness": 20
         },
         "type": "sankey"
        }
       ],
       "layout": {
        "template": {
         "data": {
          "histogram2dcontour": [
           {
            "type": "histogram2dcontour",
            "colorbar": {
             "outlinewidth": 0,
             "ticks": ""
            },
            "colorscale": [
             [
              0.0,
              "#0d0887"
             ],
             [
              0.1111111111111111,
              "#46039f"
             ],
             [
              0.2222222222222222,
              "#7201a8"
             ],
             [
              0.3333333333333333,
              "#9c179e"
             ],
             [
              0.4444444444444444,
              "#bd3786"
             ],
             [
              0.5555555555555556,
              "#d8576b"
             ],
             [
              0.6666666666666666,
              "#ed7953"
             ],
             [
              0.7777777777777778,
              "#fb9f3a"
             ],
             [
              0.8888888888888888,
              "#fdca26"
             ],
             [
              1.0,
              "#f0f921"
             ]
            ]
           }
          ],
          "choropleth": [
           {
            "type": "choropleth",
            "colorbar": {
             "outlinewidth": 0,
             "ticks": ""
            }
           }
          ],
          "histogram2d": [
           {
            "type": "histogram2d",
            "colorbar": {
             "outlinewidth": 0,
             "ticks": ""
            },
            "colorscale": [
             [
              0.0,
              "#0d0887"
             ],
             [
              0.1111111111111111,
              "#46039f"
             ],
             [
              0.2222222222222222,
              "#7201a8"
             ],
             [
              0.3333333333333333,
              "#9c179e"
             ],
             [
              0.4444444444444444,
              "#bd3786"
             ],
             [
              0.5555555555555556,
              "#d8576b"
             ],
             [
              0.6666666666666666,
              "#ed7953"
             ],
             [
              0.7777777777777778,
              "#fb9f3a"
             ],
             [
              0.8888888888888888,
              "#fdca26"
             ],
             [
              1.0,
              "#f0f921"
             ]
            ]
           }
          ],
          "heatmap": [
           {
            "type": "heatmap",
            "colorbar": {
             "outlinewidth": 0,
             "ticks": ""
            },
            "colorscale": [
             [
              0.0,
              "#0d0887"
             ],
             [
              0.1111111111111111,
              "#46039f"
             ],
             [
              0.2222222222222222,
              "#7201a8"
             ],
             [
              0.3333333333333333,
              "#9c179e"
             ],
             [
              0.4444444444444444,
              "#bd3786"
             ],
             [
              0.5555555555555556,
              "#d8576b"
             ],
             [
              0.6666666666666666,
              "#ed7953"
             ],
             [
              0.7777777777777778,
              "#fb9f3a"
             ],
             [
              0.8888888888888888,
              "#fdca26"
             ],
             [
              1.0,
              "#f0f921"
             ]
            ]
           }
          ],
          "heatmapgl": [
           {
            "type": "heatmapgl",
            "colorbar": {
             "outlinewidth": 0,
             "ticks": ""
            },
            "colorscale": [
             [
              0.0,
              "#0d0887"
             ],
             [
              0.1111111111111111,
              "#46039f"
             ],
             [
              0.2222222222222222,
              "#7201a8"
             ],
             [
              0.3333333333333333,
              "#9c179e"
             ],
             [
              0.4444444444444444,
              "#bd3786"
             ],
             [
              0.5555555555555556,
              "#d8576b"
             ],
             [
              0.6666666666666666,
              "#ed7953"
             ],
             [
              0.7777777777777778,
              "#fb9f3a"
             ],
             [
              0.8888888888888888,
              "#fdca26"
             ],
             [
              1.0,
              "#f0f921"
             ]
            ]
           }
          ],
          "contourcarpet": [
           {
            "type": "contourcarpet",
            "colorbar": {
             "outlinewidth": 0,
             "ticks": ""
            }
           }
          ],
          "contour": [
           {
            "type": "contour",
            "colorbar": {
             "outlinewidth": 0,
             "ticks": ""
            },
            "colorscale": [
             [
              0.0,
              "#0d0887"
             ],
             [
              0.1111111111111111,
              "#46039f"
             ],
             [
              0.2222222222222222,
              "#7201a8"
             ],
             [
              0.3333333333333333,
              "#9c179e"
             ],
             [
              0.4444444444444444,
              "#bd3786"
             ],
             [
              0.5555555555555556,
              "#d8576b"
             ],
             [
              0.6666666666666666,
              "#ed7953"
             ],
             [
              0.7777777777777778,
              "#fb9f3a"
             ],
             [
              0.8888888888888888,
              "#fdca26"
             ],
             [
              1.0,
              "#f0f921"
             ]
            ]
           }
          ],
          "surface": [
           {
            "type": "surface",
            "colorbar": {
             "outlinewidth": 0,
             "ticks": ""
            },
            "colorscale": [
             [
              0.0,
              "#0d0887"
             ],
             [
              0.1111111111111111,
              "#46039f"
             ],
             [
              0.2222222222222222,
              "#7201a8"
             ],
             [
              0.3333333333333333,
              "#9c179e"
             ],
             [
              0.4444444444444444,
              "#bd3786"
             ],
             [
              0.5555555555555556,
              "#d8576b"
             ],
             [
              0.6666666666666666,
              "#ed7953"
             ],
             [
              0.7777777777777778,
              "#fb9f3a"
             ],
             [
              0.8888888888888888,
              "#fdca26"
             ],
             [
              1.0,
              "#f0f921"
             ]
            ]
           }
          ],
          "mesh3d": [
           {
            "type": "mesh3d",
            "colorbar": {
             "outlinewidth": 0,
             "ticks": ""
            }
           }
          ],
          "scatter": [
           {
            "fillpattern": {
             "fillmode": "overlay",
             "size": 10,
             "solidity": 0.2
            },
            "type": "scatter"
           }
          ],
          "parcoords": [
           {
            "type": "parcoords",
            "line": {
             "colorbar": {
              "outlinewidth": 0,
              "ticks": ""
             }
            }
           }
          ],
          "scatterpolargl": [
           {
            "type": "scatterpolargl",
            "marker": {
             "colorbar": {
              "outlinewidth": 0,
              "ticks": ""
             }
            }
           }
          ],
          "bar": [
           {
            "error_x": {
             "color": "#2a3f5f"
            },
            "error_y": {
             "color": "#2a3f5f"
            },
            "marker": {
             "line": {
              "color": "#E5ECF6",
              "width": 0.5
             },
             "pattern": {
              "fillmode": "overlay",
              "size": 10,
              "solidity": 0.2
             }
            },
            "type": "bar"
           }
          ],
          "scattergeo": [
           {
            "type": "scattergeo",
            "marker": {
             "colorbar": {
              "outlinewidth": 0,
              "ticks": ""
             }
            }
           }
          ],
          "scatterpolar": [
           {
            "type": "scatterpolar",
            "marker": {
             "colorbar": {
              "outlinewidth": 0,
              "ticks": ""
             }
            }
           }
          ],
          "histogram": [
           {
            "marker": {
             "pattern": {
              "fillmode": "overlay",
              "size": 10,
              "solidity": 0.2
             }
            },
            "type": "histogram"
           }
          ],
          "scattergl": [
           {
            "type": "scattergl",
            "marker": {
             "colorbar": {
              "outlinewidth": 0,
              "ticks": ""
             }
            }
           }
          ],
          "scatter3d": [
           {
            "type": "scatter3d",
            "line": {
             "colorbar": {
              "outlinewidth": 0,
              "ticks": ""
             }
            },
            "marker": {
             "colorbar": {
              "outlinewidth": 0,
              "ticks": ""
             }
            }
           }
          ],
          "scattermapbox": [
           {
            "type": "scattermapbox",
            "marker": {
             "colorbar": {
              "outlinewidth": 0,
              "ticks": ""
             }
            }
           }
          ],
          "scatterternary": [
           {
            "type": "scatterternary",
            "marker": {
             "colorbar": {
              "outlinewidth": 0,
              "ticks": ""
             }
            }
           }
          ],
          "scattercarpet": [
           {
            "type": "scattercarpet",
            "marker": {
             "colorbar": {
              "outlinewidth": 0,
              "ticks": ""
             }
            }
           }
          ],
          "carpet": [
           {
            "aaxis": {
             "endlinecolor": "#2a3f5f",
             "gridcolor": "white",
             "linecolor": "white",
             "minorgridcolor": "white",
             "startlinecolor": "#2a3f5f"
            },
            "baxis": {
             "endlinecolor": "#2a3f5f",
             "gridcolor": "white",
             "linecolor": "white",
             "minorgridcolor": "white",
             "startlinecolor": "#2a3f5f"
            },
            "type": "carpet"
           }
          ],
          "table": [
           {
            "cells": {
             "fill": {
              "color": "#EBF0F8"
             },
             "line": {
              "color": "white"
             }
            },
            "header": {
             "fill": {
              "color": "#C8D4E3"
             },
             "line": {
              "color": "white"
             }
            },
            "type": "table"
           }
          ],
          "barpolar": [
           {
            "marker": {
             "line": {
              "color": "#E5ECF6",
              "width": 0.5
             },
             "pattern": {
              "fillmode": "overlay",
              "size": 10,
              "solidity": 0.2
             }
            },
            "type": "barpolar"
           }
          ],
          "pie": [
           {
            "automargin": true,
            "type": "pie"
           }
          ]
         },
         "layout": {
          "autotypenumbers": "strict",
          "colorway": [
           "#636efa",
           "#EF553B",
           "#00cc96",
           "#ab63fa",
           "#FFA15A",
           "#19d3f3",
           "#FF6692",
           "#B6E880",
           "#FF97FF",
           "#FECB52"
          ],
          "font": {
           "color": "#2a3f5f"
          },
          "hovermode": "closest",
          "hoverlabel": {
           "align": "left"
          },
          "paper_bgcolor": "white",
          "plot_bgcolor": "#E5ECF6",
          "polar": {
           "bgcolor": "#E5ECF6",
           "angularaxis": {
            "gridcolor": "white",
            "linecolor": "white",
            "ticks": ""
           },
           "radialaxis": {
            "gridcolor": "white",
            "linecolor": "white",
            "ticks": ""
           }
          },
          "ternary": {
           "bgcolor": "#E5ECF6",
           "aaxis": {
            "gridcolor": "white",
            "linecolor": "white",
            "ticks": ""
           },
           "baxis": {
            "gridcolor": "white",
            "linecolor": "white",
            "ticks": ""
           },
           "caxis": {
            "gridcolor": "white",
            "linecolor": "white",
            "ticks": ""
           }
          },
          "coloraxis": {
           "colorbar": {
            "outlinewidth": 0,
            "ticks": ""
           }
          },
          "colorscale": {
           "sequential": [
            [
             0.0,
             "#0d0887"
            ],
            [
             0.1111111111111111,
             "#46039f"
            ],
            [
             0.2222222222222222,
             "#7201a8"
            ],
            [
             0.3333333333333333,
             "#9c179e"
            ],
            [
             0.4444444444444444,
             "#bd3786"
            ],
            [
             0.5555555555555556,
             "#d8576b"
            ],
            [
             0.6666666666666666,
             "#ed7953"
            ],
            [
             0.7777777777777778,
             "#fb9f3a"
            ],
            [
             0.8888888888888888,
             "#fdca26"
            ],
            [
             1.0,
             "#f0f921"
            ]
           ],
           "sequentialminus": [
            [
             0.0,
             "#0d0887"
            ],
            [
             0.1111111111111111,
             "#46039f"
            ],
            [
             0.2222222222222222,
             "#7201a8"
            ],
            [
             0.3333333333333333,
             "#9c179e"
            ],
            [
             0.4444444444444444,
             "#bd3786"
            ],
            [
             0.5555555555555556,
             "#d8576b"
            ],
            [
             0.6666666666666666,
             "#ed7953"
            ],
            [
             0.7777777777777778,
             "#fb9f3a"
            ],
            [
             0.8888888888888888,
             "#fdca26"
            ],
            [
             1.0,
             "#f0f921"
            ]
           ],
           "diverging": [
            [
             0,
             "#8e0152"
            ],
            [
             0.1,
             "#c51b7d"
            ],
            [
             0.2,
             "#de77ae"
            ],
            [
             0.3,
             "#f1b6da"
            ],
            [
             0.4,
             "#fde0ef"
            ],
            [
             0.5,
             "#f7f7f7"
            ],
            [
             0.6,
             "#e6f5d0"
            ],
            [
             0.7,
             "#b8e186"
            ],
            [
             0.8,
             "#7fbc41"
            ],
            [
             0.9,
             "#4d9221"
            ],
            [
             1,
             "#276419"
            ]
           ]
          },
          "xaxis": {
           "gridcolor": "white",
           "linecolor": "white",
           "ticks": "",
           "title": {
            "standoff": 15
           },
           "zerolinecolor": "white",
           "automargin": true,
           "zerolinewidth": 2
          },
          "yaxis": {
           "gridcolor": "white",
           "linecolor": "white",
           "ticks": "",
           "title": {
            "standoff": 15
           },
           "zerolinecolor": "white",
           "automargin": true,
           "zerolinewidth": 2
          },
          "scene": {
           "xaxis": {
            "backgroundcolor": "#E5ECF6",
            "gridcolor": "white",
            "linecolor": "white",
            "showbackground": true,
            "ticks": "",
            "zerolinecolor": "white",
            "gridwidth": 2
           },
           "yaxis": {
            "backgroundcolor": "#E5ECF6",
            "gridcolor": "white",
            "linecolor": "white",
            "showbackground": true,
            "ticks": "",
            "zerolinecolor": "white",
            "gridwidth": 2
           },
           "zaxis": {
            "backgroundcolor": "#E5ECF6",
            "gridcolor": "white",
            "linecolor": "white",
            "showbackground": true,
            "ticks": "",
            "zerolinecolor": "white",
            "gridwidth": 2
           }
          },
          "shapedefaults": {
           "line": {
            "color": "#2a3f5f"
           }
          },
          "annotationdefaults": {
           "arrowcolor": "#2a3f5f",
           "arrowhead": 0,
           "arrowwidth": 1
          },
          "geo": {
           "bgcolor": "white",
           "landcolor": "#E5ECF6",
           "subunitcolor": "white",
           "showland": true,
           "showlakes": true,
           "lakecolor": "white"
          },
          "title": {
           "x": 0.05
          },
          "mapbox": {
           "style": "light"
          }
         }
        }
       },
       "config": {
        "plotlyServerURL": "https://plot.ly"
       }
      },
      "text/html": "<div>                            <div id=\"74f70051-1335-4127-97ed-3681ff82b429\" class=\"plotly-graph-div\" style=\"height:525px; width:100%;\"></div>            <script type=\"text/javascript\">                require([\"plotly\"], function(Plotly) {                    window.PLOTLYENV=window.PLOTLYENV || {};                                    if (document.getElementById(\"74f70051-1335-4127-97ed-3681ff82b429\")) {                    Plotly.newPlot(                        \"74f70051-1335-4127-97ed-3681ff82b429\",                        [{\"link\":{\"source\":[0,1,2,3,4,5,6,7,8,9,10,7,12,4,14,15,8,17,18,19,20,21,22,23,24,15,26,27,28,29,30],\"target\":[26,26,26,26,26,26,27,27,27,27,28,28,28,28,28,28,29,29,29,29,29,30,30,30,30,30,31,31,31,31,31],\"value\":[0.19105317366172253,0.19664015955938982,0.19938279938254982,0.17631193373822923,0.06708662266985567,0.1695253109882529,0.1403419234605448,0.31717770181857213,0.28769988362344334,0.2547804910974397,0.028447728076381462,0.1687554730848213,0.23926174103511505,0.07500130854131419,0.1950224352439973,0.2935113140183707,0.22513523583207265,0.0863678144869296,0.14794123510520563,0.16590937138248837,0.37464634319330375,0.1331488938110052,0.025091356399884576,0.3259334222504339,0.1977442142638257,0.3180821132748506,0.23691834002774398,0.1265049169251752,0.19320241159128132,0.14435884829203316,0.29901548316376636]},\"node\":{\"label\":[\"13\\u3001\\u60a8\\u662f\\u5426\\u6709\\u901a\\u8fc7\\u4eba\\u5de5\\u667a\\u80fd\\u5b66\\u4e60\\u5de5\\u5177\\u5e2e\\u52a9\\u5b8c\\u6210\\u4f5c\\u4e1a\\u7684\\u60f3\\u6cd5\\uff1f\",\"14\\u3001\\u60a8\\u662f\\u5426\\u6709\\u901a\\u8fc7\\u4eba\\u5de5\\u667a\\u80fd\\u5b66\\u4e60\\u5de5\\u5177\\u5e2e\\u60a8\\u5b8c\\u6210\\u5c0f\\u6d4b\\u9a8c\\u7684\\u60f3\\u6cd5\\uff1f\",\"15\\u3001\\u60a8\\u662f\\u5426\\u6709\\u901a\\u8fc7\\u4eba\\u5de5\\u667a\\u80fd\\u5b66\\u4e60\\u5de5\\u5177\\u5e2e\\u52a9\\u60a8\\u5b8c\\u6210\\u8bba\\u6587\\u7684\\u60f3\\u6cd5\\uff1f\",\"17\\u3001\\u5bf9\\u4e8e\\u5927\\u5b66\\u751f\\u4f7f\\u7528\\u4eba\\u5de5\\u667a\\u80fd\\u5b66\\u4e60\\u5de5\\u5177\\u60a8\\u662f\\u5426\\u8d5e\\u540c\\uff1f\",\"19\\u3001\\u60a8\\u5bf9\\u4eba\\u5de5\\u667a\\u80fd\\u5b66\\u4e60\\u5de5\\u5177\\u56de\\u7b54\\u95ee\\u9898\\u7684\\u53ef\\u4fe1\\u5ea6\\u6301\\u4f55\\u79cd\\u6001\\u5ea6\\uff1f\",\"28\\u3001\\u60a8\\u8ba4\\u4e3a\\u4ee5\\u4e0b\\u54ea\\u4e9b\\u65b9\\u9762\\u5bf9\\u4eba\\u5de5\\u667a\\u80fd\\u5b66\\u4e60\\u5de5\\u5177\\u5f88\\u91cd\\u8981\\uff1f\",\"6\\u3001\\u60a8\\u6bcf\\u5468\\u7684\\u4e0a\\u7f51\\u65f6\\u957f\\u5927\\u7ea6\\u662f\\u591a\\u5c11\\uff1f\",\"8\\u3001\\u60a8\\u662f\\u5728\\u4ec0\\u4e48\\u65f6\\u95f4\\u4f7f\\u7528\\u5b66\\u4e60\\u8f6f\\u4ef6\\u5de5\\u5177\\u5462\\uff1f\",\"9\\u3001\\u60a8\\u4f1a\\u5c06\\u81ea\\u5df1\\u7684\\u8d44\\u6599\\u4f20\\u5230\\u7f51\\u4e0a\\u548c\\u522b\\u4eba\\u8fdb\\u884c\\u5206\\u4eab\\u5417\\uff1f\",\"23\\u3001\\u5728\\u7f51\\u7edc\\u4e2d\\u60a8\\u4e3b\\u8981\\u8fdb\\u884c\\u54ea\\u4e9b\\u6d3b\\u52a8\\uff1f\",\"7\\u3001\\u60a8\\u662f\\u5426\\u4f7f\\u7528\\u8fc7\\u5b66\\u4e60\\u8f6f\\u4ef6\\u5de5\\u5177\\uff1f\",\"8\\u3001\\u60a8\\u662f\\u5728\\u4ec0\\u4e48\\u65f6\\u95f4\\u4f7f\\u7528\\u5b66\\u4e60\\u8f6f\\u4ef6\\u5de5\\u5177\\u5462\\uff1f\",\"11\\u3001\\u60a8\\u7684\\u8001\\u5e08\\u662f\\u5426\\u63a8\\u8350\\u8fc7\\u540c\\u5b66\\u4eec\\u4f7f\\u7528\\u8fc7\\u67d0\\u79cd\\u5b66\\u4e60\\u8f6f\\u4ef6\\uff1f\",\"19\\u3001\\u60a8\\u5bf9\\u4eba\\u5de5\\u667a\\u80fd\\u5b66\\u4e60\\u5de5\\u5177\\u56de\\u7b54\\u95ee\\u9898\\u7684\\u53ef\\u4fe1\\u5ea6\\u6301\\u4f55\\u79cd\\u6001\\u5ea6\\uff1f\",\"26\\u3001\\u5bf9\\u4e8e\\u5229\\u7528\\u5b66\\u4e60\\u8f6f\\u4ef6\\u8fdb\\u884c\\u5b66\\u4e60\\u8fd9\\u79cd\\u5f62\\u5f0f\\uff0c\\u60a8\\u6700\\u5173\\u6ce8\\u7684\\u662f\",\"30\\u3001\\u60a8\\u8ba4\\u4e3a\\u4eba\\u5de5\\u667a\\u80fd\\u5b66\\u4e60\\u5de5\\u5177\\u878d\\u5408\\u5230\\u54ea\\u4e2a\\u5b66\\u4e60\\u73af\\u8282\\uff1f\",\"9\\u3001\\u60a8\\u4f1a\\u5c06\\u81ea\\u5df1\\u7684\\u8d44\\u6599\\u4f20\\u5230\\u7f51\\u4e0a\\u548c\\u522b\\u4eba\\u8fdb\\u884c\\u5206\\u4eab\\u5417\\uff1f\",\"10\\u3001\\u60a8\\u662f\\u5426\\u60f3\\u83b7\\u53d6\\u5168\\u56fd\\u5404\\u9ad8\\u6821\\u7684\\u5b66\\u4e60\\u8d44\\u6e90\\uff1f\",\"12\\u3001\\u82e5\\u6709\\u4eba\\u5de5\\u667a\\u80fd\\u5b66\\u4e60\\u5de5\\u5177\\uff0c\\u60a8\\u662f\\u5426\\u4f1a\\u9009\\u62e9\\u4f7f\\u7528\\uff1f\",\"20\\u3001\\u5982\\u679c\\u60a8\\u4f7f\\u7528\\u4eba\\u5de5\\u667a\\u80fd\\u5b66\\u4e60\\u5de5\\u5177\\uff0c\\u66f4\\u5e0c\\u671b\\u5f97\\u5230\\u4ec0\\u4e48\\u7684\\u6548\\u679c\\uff1f\",\"25\\u3001\\u8fdb\\u5165\\u5927\\u5b66\\u540e\\u5728\\u5b66\\u4e60\\u4e2d\\u56f0\\u6270\\u60a8\\u7684\\u95ee\\u9898\\u662f\\u4ec0\\u4e48\\uff1f\",\"21\\u3001\\u60a8\\u89c9\\u5f97\\u4eba\\u5de5\\u667a\\u80fd\\u5de5\\u5177\\u5728\\u672a\\u6765\\u662f\\u5426\\u53ef\\u4ee5\\u53d6\\u4ee3\\u6559\\u5e08\\uff1f\",\"22\\u3001\\u5f53\\u4eba\\u5de5\\u667a\\u80fd\\u5de5\\u5177\\u4e0e\\u6559\\u80b2\\u7ed3\\u5408\\u5230\\u4e00\\u5b9a\\u7a0b\\u5ea6\\u65f6\\uff0c\\u60a8\\u89c9\\u5f97\\u5b66\\u751f\\u8be5\\u5982\\u4f55\\u53bb\\u9002\\u5e94\\uff1f\",\"24\\u3001\\u60a8\\u8ba4\\u4e3a\\u5b66\\u4e60\\u8f6f\\u4ef6\\u4e0e\\u8bfe\\u5802\\u6559\\u5b66\\u76f8\\u6bd4\\u8f83\\u6700\\u5927\\u7684\\u4f18\\u52bf\\u662f\\u4ec0\\u4e48\\uff1f\",\"27\\u3001\\u60a8\\u8003\\u8651\\u8fc7\\u4f7f\\u7528\\u4eba\\u5de5\\u667a\\u80fd\\u5de5\\u5177\\u7684\\u54ea\\u4e9b\\u5b89\\u5168\\u6027\\uff1f\",\"30\\u3001\\u60a8\\u8ba4\\u4e3a\\u4eba\\u5de5\\u667a\\u80fd\\u5b66\\u4e60\\u5de5\\u5177\\u878d\\u5408\\u5230\\u54ea\\u4e2a\\u5b66\\u4e60\\u73af\\u8282\\uff1f\",\"\\u5bf9AI\\u7684\\u9700\\u6c42\\u7a0b\\u5ea6(Q1)\",\"\\u5bf9\\u7f51\\u7edc\\u8ba4\\u8bc6\\u7684\\u6df1\\u5ea6(Q2)\",\"\\u503e\\u5411\\u4e8e\\u4f7f\\u7528\\u8f6f\\u4ef6\\u8fdb\\u884c\\u7684\\u7a0b\\u5ea6(Q3)\",\"\\u5bf9\\u5b66\\u4e60\\u7684\\u70ed\\u7231\\u7a0b\\u5ea6(Q4)\",\"\\u5bf9AI\\u7684\\u8ba4\\u53ef\\u7a0b\\u5ea6(Q5)\",\"\\u603b\\u5206\"],\"pad\":15,\"thickness\":20},\"type\":\"sankey\"}],                        {\"template\":{\"data\":{\"histogram2dcontour\":[{\"type\":\"histogram2dcontour\",\"colorbar\":{\"outlinewidth\":0,\"ticks\":\"\"},\"colorscale\":[[0.0,\"#0d0887\"],[0.1111111111111111,\"#46039f\"],[0.2222222222222222,\"#7201a8\"],[0.3333333333333333,\"#9c179e\"],[0.4444444444444444,\"#bd3786\"],[0.5555555555555556,\"#d8576b\"],[0.6666666666666666,\"#ed7953\"],[0.7777777777777778,\"#fb9f3a\"],[0.8888888888888888,\"#fdca26\"],[1.0,\"#f0f921\"]]}],\"choropleth\":[{\"type\":\"choropleth\",\"colorbar\":{\"outlinewidth\":0,\"ticks\":\"\"}}],\"histogram2d\":[{\"type\":\"histogram2d\",\"colorbar\":{\"outlinewidth\":0,\"ticks\":\"\"},\"colorscale\":[[0.0,\"#0d0887\"],[0.1111111111111111,\"#46039f\"],[0.2222222222222222,\"#7201a8\"],[0.3333333333333333,\"#9c179e\"],[0.4444444444444444,\"#bd3786\"],[0.5555555555555556,\"#d8576b\"],[0.6666666666666666,\"#ed7953\"],[0.7777777777777778,\"#fb9f3a\"],[0.8888888888888888,\"#fdca26\"],[1.0,\"#f0f921\"]]}],\"heatmap\":[{\"type\":\"heatmap\",\"colorbar\":{\"outlinewidth\":0,\"ticks\":\"\"},\"colorscale\":[[0.0,\"#0d0887\"],[0.1111111111111111,\"#46039f\"],[0.2222222222222222,\"#7201a8\"],[0.3333333333333333,\"#9c179e\"],[0.4444444444444444,\"#bd3786\"],[0.5555555555555556,\"#d8576b\"],[0.6666666666666666,\"#ed7953\"],[0.7777777777777778,\"#fb9f3a\"],[0.8888888888888888,\"#fdca26\"],[1.0,\"#f0f921\"]]}],\"heatmapgl\":[{\"type\":\"heatmapgl\",\"colorbar\":{\"outlinewidth\":0,\"ticks\":\"\"},\"colorscale\":[[0.0,\"#0d0887\"],[0.1111111111111111,\"#46039f\"],[0.2222222222222222,\"#7201a8\"],[0.3333333333333333,\"#9c179e\"],[0.4444444444444444,\"#bd3786\"],[0.5555555555555556,\"#d8576b\"],[0.6666666666666666,\"#ed7953\"],[0.7777777777777778,\"#fb9f3a\"],[0.8888888888888888,\"#fdca26\"],[1.0,\"#f0f921\"]]}],\"contourcarpet\":[{\"type\":\"contourcarpet\",\"colorbar\":{\"outlinewidth\":0,\"ticks\":\"\"}}],\"contour\":[{\"type\":\"contour\",\"colorbar\":{\"outlinewidth\":0,\"ticks\":\"\"},\"colorscale\":[[0.0,\"#0d0887\"],[0.1111111111111111,\"#46039f\"],[0.2222222222222222,\"#7201a8\"],[0.3333333333333333,\"#9c179e\"],[0.4444444444444444,\"#bd3786\"],[0.5555555555555556,\"#d8576b\"],[0.6666666666666666,\"#ed7953\"],[0.7777777777777778,\"#fb9f3a\"],[0.8888888888888888,\"#fdca26\"],[1.0,\"#f0f921\"]]}],\"surface\":[{\"type\":\"surface\",\"colorbar\":{\"outlinewidth\":0,\"ticks\":\"\"},\"colorscale\":[[0.0,\"#0d0887\"],[0.1111111111111111,\"#46039f\"],[0.2222222222222222,\"#7201a8\"],[0.3333333333333333,\"#9c179e\"],[0.4444444444444444,\"#bd3786\"],[0.5555555555555556,\"#d8576b\"],[0.6666666666666666,\"#ed7953\"],[0.7777777777777778,\"#fb9f3a\"],[0.8888888888888888,\"#fdca26\"],[1.0,\"#f0f921\"]]}],\"mesh3d\":[{\"type\":\"mesh3d\",\"colorbar\":{\"outlinewidth\":0,\"ticks\":\"\"}}],\"scatter\":[{\"fillpattern\":{\"fillmode\":\"overlay\",\"size\":10,\"solidity\":0.2},\"type\":\"scatter\"}],\"parcoords\":[{\"type\":\"parcoords\",\"line\":{\"colorbar\":{\"outlinewidth\":0,\"ticks\":\"\"}}}],\"scatterpolargl\":[{\"type\":\"scatterpolargl\",\"marker\":{\"colorbar\":{\"outlinewidth\":0,\"ticks\":\"\"}}}],\"bar\":[{\"error_x\":{\"color\":\"#2a3f5f\"},\"error_y\":{\"color\":\"#2a3f5f\"},\"marker\":{\"line\":{\"color\":\"#E5ECF6\",\"width\":0.5},\"pattern\":{\"fillmode\":\"overlay\",\"size\":10,\"solidity\":0.2}},\"type\":\"bar\"}],\"scattergeo\":[{\"type\":\"scattergeo\",\"marker\":{\"colorbar\":{\"outlinewidth\":0,\"ticks\":\"\"}}}],\"scatterpolar\":[{\"type\":\"scatterpolar\",\"marker\":{\"colorbar\":{\"outlinewidth\":0,\"ticks\":\"\"}}}],\"histogram\":[{\"marker\":{\"pattern\":{\"fillmode\":\"overlay\",\"size\":10,\"solidity\":0.2}},\"type\":\"histogram\"}],\"scattergl\":[{\"type\":\"scattergl\",\"marker\":{\"colorbar\":{\"outlinewidth\":0,\"ticks\":\"\"}}}],\"scatter3d\":[{\"type\":\"scatter3d\",\"line\":{\"colorbar\":{\"outlinewidth\":0,\"ticks\":\"\"}},\"marker\":{\"colorbar\":{\"outlinewidth\":0,\"ticks\":\"\"}}}],\"scattermapbox\":[{\"type\":\"scattermapbox\",\"marker\":{\"colorbar\":{\"outlinewidth\":0,\"ticks\":\"\"}}}],\"scatterternary\":[{\"type\":\"scatterternary\",\"marker\":{\"colorbar\":{\"outlinewidth\":0,\"ticks\":\"\"}}}],\"scattercarpet\":[{\"type\":\"scattercarpet\",\"marker\":{\"colorbar\":{\"outlinewidth\":0,\"ticks\":\"\"}}}],\"carpet\":[{\"aaxis\":{\"endlinecolor\":\"#2a3f5f\",\"gridcolor\":\"white\",\"linecolor\":\"white\",\"minorgridcolor\":\"white\",\"startlinecolor\":\"#2a3f5f\"},\"baxis\":{\"endlinecolor\":\"#2a3f5f\",\"gridcolor\":\"white\",\"linecolor\":\"white\",\"minorgridcolor\":\"white\",\"startlinecolor\":\"#2a3f5f\"},\"type\":\"carpet\"}],\"table\":[{\"cells\":{\"fill\":{\"color\":\"#EBF0F8\"},\"line\":{\"color\":\"white\"}},\"header\":{\"fill\":{\"color\":\"#C8D4E3\"},\"line\":{\"color\":\"white\"}},\"type\":\"table\"}],\"barpolar\":[{\"marker\":{\"line\":{\"color\":\"#E5ECF6\",\"width\":0.5},\"pattern\":{\"fillmode\":\"overlay\",\"size\":10,\"solidity\":0.2}},\"type\":\"barpolar\"}],\"pie\":[{\"automargin\":true,\"type\":\"pie\"}]},\"layout\":{\"autotypenumbers\":\"strict\",\"colorway\":[\"#636efa\",\"#EF553B\",\"#00cc96\",\"#ab63fa\",\"#FFA15A\",\"#19d3f3\",\"#FF6692\",\"#B6E880\",\"#FF97FF\",\"#FECB52\"],\"font\":{\"color\":\"#2a3f5f\"},\"hovermode\":\"closest\",\"hoverlabel\":{\"align\":\"left\"},\"paper_bgcolor\":\"white\",\"plot_bgcolor\":\"#E5ECF6\",\"polar\":{\"bgcolor\":\"#E5ECF6\",\"angularaxis\":{\"gridcolor\":\"white\",\"linecolor\":\"white\",\"ticks\":\"\"},\"radialaxis\":{\"gridcolor\":\"white\",\"linecolor\":\"white\",\"ticks\":\"\"}},\"ternary\":{\"bgcolor\":\"#E5ECF6\",\"aaxis\":{\"gridcolor\":\"white\",\"linecolor\":\"white\",\"ticks\":\"\"},\"baxis\":{\"gridcolor\":\"white\",\"linecolor\":\"white\",\"ticks\":\"\"},\"caxis\":{\"gridcolor\":\"white\",\"linecolor\":\"white\",\"ticks\":\"\"}},\"coloraxis\":{\"colorbar\":{\"outlinewidth\":0,\"ticks\":\"\"}},\"colorscale\":{\"sequential\":[[0.0,\"#0d0887\"],[0.1111111111111111,\"#46039f\"],[0.2222222222222222,\"#7201a8\"],[0.3333333333333333,\"#9c179e\"],[0.4444444444444444,\"#bd3786\"],[0.5555555555555556,\"#d8576b\"],[0.6666666666666666,\"#ed7953\"],[0.7777777777777778,\"#fb9f3a\"],[0.8888888888888888,\"#fdca26\"],[1.0,\"#f0f921\"]],\"sequentialminus\":[[0.0,\"#0d0887\"],[0.1111111111111111,\"#46039f\"],[0.2222222222222222,\"#7201a8\"],[0.3333333333333333,\"#9c179e\"],[0.4444444444444444,\"#bd3786\"],[0.5555555555555556,\"#d8576b\"],[0.6666666666666666,\"#ed7953\"],[0.7777777777777778,\"#fb9f3a\"],[0.8888888888888888,\"#fdca26\"],[1.0,\"#f0f921\"]],\"diverging\":[[0,\"#8e0152\"],[0.1,\"#c51b7d\"],[0.2,\"#de77ae\"],[0.3,\"#f1b6da\"],[0.4,\"#fde0ef\"],[0.5,\"#f7f7f7\"],[0.6,\"#e6f5d0\"],[0.7,\"#b8e186\"],[0.8,\"#7fbc41\"],[0.9,\"#4d9221\"],[1,\"#276419\"]]},\"xaxis\":{\"gridcolor\":\"white\",\"linecolor\":\"white\",\"ticks\":\"\",\"title\":{\"standoff\":15},\"zerolinecolor\":\"white\",\"automargin\":true,\"zerolinewidth\":2},\"yaxis\":{\"gridcolor\":\"white\",\"linecolor\":\"white\",\"ticks\":\"\",\"title\":{\"standoff\":15},\"zerolinecolor\":\"white\",\"automargin\":true,\"zerolinewidth\":2},\"scene\":{\"xaxis\":{\"backgroundcolor\":\"#E5ECF6\",\"gridcolor\":\"white\",\"linecolor\":\"white\",\"showbackground\":true,\"ticks\":\"\",\"zerolinecolor\":\"white\",\"gridwidth\":2},\"yaxis\":{\"backgroundcolor\":\"#E5ECF6\",\"gridcolor\":\"white\",\"linecolor\":\"white\",\"showbackground\":true,\"ticks\":\"\",\"zerolinecolor\":\"white\",\"gridwidth\":2},\"zaxis\":{\"backgroundcolor\":\"#E5ECF6\",\"gridcolor\":\"white\",\"linecolor\":\"white\",\"showbackground\":true,\"ticks\":\"\",\"zerolinecolor\":\"white\",\"gridwidth\":2}},\"shapedefaults\":{\"line\":{\"color\":\"#2a3f5f\"}},\"annotationdefaults\":{\"arrowcolor\":\"#2a3f5f\",\"arrowhead\":0,\"arrowwidth\":1},\"geo\":{\"bgcolor\":\"white\",\"landcolor\":\"#E5ECF6\",\"subunitcolor\":\"white\",\"showland\":true,\"showlakes\":true,\"lakecolor\":\"white\"},\"title\":{\"x\":0.05},\"mapbox\":{\"style\":\"light\"}}}},                        {\"responsive\": true}                    ).then(function(){\n                            \nvar gd = document.getElementById('74f70051-1335-4127-97ed-3681ff82b429');\nvar x = new MutationObserver(function (mutations, observer) {{\n        var display = window.getComputedStyle(gd).display;\n        if (!display || display === 'none') {{\n            console.log([gd, 'removed!']);\n            Plotly.purge(gd);\n            observer.disconnect();\n        }}\n}});\n\n// Listen for the removal of the full notebook cells\nvar notebookContainer = gd.closest('#notebook-container');\nif (notebookContainer) {{\n    x.observe(notebookContainer, {childList: true});\n}}\n\n// Listen for the clearing of the current output cell\nvar outputEl = gd.closest('.output');\nif (outputEl) {{\n    x.observe(outputEl, {childList: true});\n}}\n\n                        })                };                });            </script>        </div>"
     },
     "metadata": {},
     "output_type": "display_data"
    }
   ],
   "source": [
    "import plotly.graph_objects as go\n",
    "\n",
    "# 创建桑基图\n",
    "fig = go.Figure(data=[go.Sankey(\n",
    "    node=dict(\n",
    "        label=nodes,\n",
    "        pad=15,\n",
    "        thickness=20,\n",
    "    ),\n",
    "    link=dict(\n",
    "        source=link_source,\n",
    "        target=link_target,\n",
    "        value=link_value,\n",
    "    )\n",
    ")])\n",
    "\n",
    "fig.write_html(\"桑基图.html\")\n",
    "# 显示图形\n",
    "fig.show()\n"
   ],
   "metadata": {
    "collapsed": false,
    "ExecuteTime": {
     "end_time": "2023-05-28T14:24:30.185198100Z",
     "start_time": "2023-05-28T14:24:30.135197600Z"
    }
   }
  },
  {
   "cell_type": "markdown",
   "source": [
    "# 性别人数占比图"
   ],
   "metadata": {
    "collapsed": false
   }
  },
  {
   "cell_type": "code",
   "execution_count": 15,
   "outputs": [
    {
     "data": {
      "text/plain": "        序号 1、您的性别(1-22题为单选题) 2、您的专业 3、您所在的年级 4、您的性格 5、您最常通过哪种方式上网？   \n0        1                 女    文史类       大二     其他          用手机上网  \\\n1        2                 男    理工类       大二    安静型          用手机上网   \n2        3                 女    文史类       大二    温顺型          用手机上网   \n3        4                 男    理工类       大二    坚定型           在网吧上   \n4        5                 女    理工类       大一    温顺型          用手机上网   \n...    ...               ...    ...      ...    ...            ...   \n4600  4601                 男    理工类       大一    安静型      在寝室用笔记本上网   \n4601  4602                 男    理工类       大一    外向型          用手机上网   \n4602  4603                 男    理工类       大一    外向型      在寝室用笔记本上网   \n4603  4604                 男    理工类       大一    安静型          用手机上网   \n4604  4605                 女    理工类       大一    坚定型          用手机上网   \n\n     6、您每周的上网时长大约是多少？ 7、您是否使用过学习软件工具？ 8、您是在什么时间使用学习软件工具呢？   \n0               7小时以下               是            平时有时间就使用  \\\n1                 不上网               否                 说不清   \n2               7小时以下               是            平时有时间就使用   \n3             14-20小时               是            平时有时间就使用   \n4               7小时以下               是            平时有时间就使用   \n...               ...             ...                 ...   \n4600           20小时以上               是                 说不清   \n4601           7-14小时               是            平时有时间就使用   \n4602            7小时以下               是            平时有时间就使用   \n4603           7-14小时               是                 说不清   \n4604          14-20小时               是                 说不清   \n\n     9、您会将自己的资料传到网上和别人进行分享吗？  ... 30、您认为人工智能学习工具融合到哪个学习环节？ 对AI的需求程度(Q1)   \n0                        完全会  ...                     教师传授     0.017864  \\\n1                        完全会  ...        教师传授┋课后消化┋评价反馈┋其他     0.008990   \n2                        很少会  ...           教师传授┋课后消化┋评价反馈     0.019690   \n3                        完全会  ...        教师传授┋课后消化┋评价反馈┋其他     0.011807   \n4                        很少会  ...                     教师传授     0.018552   \n...                      ...  ...                      ...          ...   \n4600                     很少会  ...                     课后消化     0.018552   \n4601                  大多数时候会  ...        教师传授┋课后消化┋评价反馈┋其他     0.020141   \n4602                  大多数时候会  ...        教师传授┋课后消化┋评价反馈┋其他     0.018370   \n4603                     有时会  ...        教师传授┋课后消化┋评价反馈┋其他     0.019690   \n4604                     很少会  ...                     课后消化     0.011807   \n\n     对网络认识的深度(Q2) 倾向于使用软件进行的程度(Q3) 对学习的热爱程度(Q4) 对AI的认可程度(Q5)      正理想解   \n0        0.013536         0.012230     0.015204     0.008306  0.009970  \\\n1        0.008978         0.017193     0.018131     0.020671  0.007800   \n2        0.016314         0.019203     0.017949     0.019630  0.003469   \n3        0.021088         0.021069     0.022082     0.022921  0.004104   \n4        0.014187         0.012711     0.011333     0.011620  0.008933   \n...           ...              ...          ...          ...       ...   \n4600     0.013036         0.009493     0.015656     0.016047  0.007788   \n4601     0.018238         0.021545     0.016119     0.021421  0.002893   \n4602     0.018716         0.021069     0.013827     0.021421  0.003653   \n4603     0.010938         0.016330     0.017034     0.022921  0.005157   \n4604     0.008196         0.012254     0.013364     0.012375  0.010203   \n\n          负理想解    综合得分指数    排序  \n0     0.007985  0.444707  3042  \n1     0.010888  0.582629  1639  \n2     0.013131  0.791026   252  \n3     0.014650  0.781177   284  \n4     0.008355  0.483300  2622  \n...        ...       ...   ...  \n4600  0.009655  0.553493  1939  \n4601  0.014283  0.831595   139  \n4602  0.013639  0.788744   259  \n4603  0.013208  0.719192   566  \n4604  0.006172  0.376913  3712  \n\n[4605 rows x 40 columns]",
      "text/html": "<div>\n<style scoped>\n    .dataframe tbody tr th:only-of-type {\n        vertical-align: middle;\n    }\n\n    .dataframe tbody tr th {\n        vertical-align: top;\n    }\n\n    .dataframe thead th {\n        text-align: right;\n    }\n</style>\n<table border=\"1\" class=\"dataframe\">\n  <thead>\n    <tr style=\"text-align: right;\">\n      <th></th>\n      <th>序号</th>\n      <th>1、您的性别(1-22题为单选题)</th>\n      <th>2、您的专业</th>\n      <th>3、您所在的年级</th>\n      <th>4、您的性格</th>\n      <th>5、您最常通过哪种方式上网？</th>\n      <th>6、您每周的上网时长大约是多少？</th>\n      <th>7、您是否使用过学习软件工具？</th>\n      <th>8、您是在什么时间使用学习软件工具呢？</th>\n      <th>9、您会将自己的资料传到网上和别人进行分享吗？</th>\n      <th>...</th>\n      <th>30、您认为人工智能学习工具融合到哪个学习环节？</th>\n      <th>对AI的需求程度(Q1)</th>\n      <th>对网络认识的深度(Q2)</th>\n      <th>倾向于使用软件进行的程度(Q3)</th>\n      <th>对学习的热爱程度(Q4)</th>\n      <th>对AI的认可程度(Q5)</th>\n      <th>正理想解</th>\n      <th>负理想解</th>\n      <th>综合得分指数</th>\n      <th>排序</th>\n    </tr>\n  </thead>\n  <tbody>\n    <tr>\n      <th>0</th>\n      <td>1</td>\n      <td>女</td>\n      <td>文史类</td>\n      <td>大二</td>\n      <td>其他</td>\n      <td>用手机上网</td>\n      <td>7小时以下</td>\n      <td>是</td>\n      <td>平时有时间就使用</td>\n      <td>完全会</td>\n      <td>...</td>\n      <td>教师传授</td>\n      <td>0.017864</td>\n      <td>0.013536</td>\n      <td>0.012230</td>\n      <td>0.015204</td>\n      <td>0.008306</td>\n      <td>0.009970</td>\n      <td>0.007985</td>\n      <td>0.444707</td>\n      <td>3042</td>\n    </tr>\n    <tr>\n      <th>1</th>\n      <td>2</td>\n      <td>男</td>\n      <td>理工类</td>\n      <td>大二</td>\n      <td>安静型</td>\n      <td>用手机上网</td>\n      <td>不上网</td>\n      <td>否</td>\n      <td>说不清</td>\n      <td>完全会</td>\n      <td>...</td>\n      <td>教师传授┋课后消化┋评价反馈┋其他</td>\n      <td>0.008990</td>\n      <td>0.008978</td>\n      <td>0.017193</td>\n      <td>0.018131</td>\n      <td>0.020671</td>\n      <td>0.007800</td>\n      <td>0.010888</td>\n      <td>0.582629</td>\n      <td>1639</td>\n    </tr>\n    <tr>\n      <th>2</th>\n      <td>3</td>\n      <td>女</td>\n      <td>文史类</td>\n      <td>大二</td>\n      <td>温顺型</td>\n      <td>用手机上网</td>\n      <td>7小时以下</td>\n      <td>是</td>\n      <td>平时有时间就使用</td>\n      <td>很少会</td>\n      <td>...</td>\n      <td>教师传授┋课后消化┋评价反馈</td>\n      <td>0.019690</td>\n      <td>0.016314</td>\n      <td>0.019203</td>\n      <td>0.017949</td>\n      <td>0.019630</td>\n      <td>0.003469</td>\n      <td>0.013131</td>\n      <td>0.791026</td>\n      <td>252</td>\n    </tr>\n    <tr>\n      <th>3</th>\n      <td>4</td>\n      <td>男</td>\n      <td>理工类</td>\n      <td>大二</td>\n      <td>坚定型</td>\n      <td>在网吧上</td>\n      <td>14-20小时</td>\n      <td>是</td>\n      <td>平时有时间就使用</td>\n      <td>完全会</td>\n      <td>...</td>\n      <td>教师传授┋课后消化┋评价反馈┋其他</td>\n      <td>0.011807</td>\n      <td>0.021088</td>\n      <td>0.021069</td>\n      <td>0.022082</td>\n      <td>0.022921</td>\n      <td>0.004104</td>\n      <td>0.014650</td>\n      <td>0.781177</td>\n      <td>284</td>\n    </tr>\n    <tr>\n      <th>4</th>\n      <td>5</td>\n      <td>女</td>\n      <td>理工类</td>\n      <td>大一</td>\n      <td>温顺型</td>\n      <td>用手机上网</td>\n      <td>7小时以下</td>\n      <td>是</td>\n      <td>平时有时间就使用</td>\n      <td>很少会</td>\n      <td>...</td>\n      <td>教师传授</td>\n      <td>0.018552</td>\n      <td>0.014187</td>\n      <td>0.012711</td>\n      <td>0.011333</td>\n      <td>0.011620</td>\n      <td>0.008933</td>\n      <td>0.008355</td>\n      <td>0.483300</td>\n      <td>2622</td>\n    </tr>\n    <tr>\n      <th>...</th>\n      <td>...</td>\n      <td>...</td>\n      <td>...</td>\n      <td>...</td>\n      <td>...</td>\n      <td>...</td>\n      <td>...</td>\n      <td>...</td>\n      <td>...</td>\n      <td>...</td>\n      <td>...</td>\n      <td>...</td>\n      <td>...</td>\n      <td>...</td>\n      <td>...</td>\n      <td>...</td>\n      <td>...</td>\n      <td>...</td>\n      <td>...</td>\n      <td>...</td>\n      <td>...</td>\n    </tr>\n    <tr>\n      <th>4600</th>\n      <td>4601</td>\n      <td>男</td>\n      <td>理工类</td>\n      <td>大一</td>\n      <td>安静型</td>\n      <td>在寝室用笔记本上网</td>\n      <td>20小时以上</td>\n      <td>是</td>\n      <td>说不清</td>\n      <td>很少会</td>\n      <td>...</td>\n      <td>课后消化</td>\n      <td>0.018552</td>\n      <td>0.013036</td>\n      <td>0.009493</td>\n      <td>0.015656</td>\n      <td>0.016047</td>\n      <td>0.007788</td>\n      <td>0.009655</td>\n      <td>0.553493</td>\n      <td>1939</td>\n    </tr>\n    <tr>\n      <th>4601</th>\n      <td>4602</td>\n      <td>男</td>\n      <td>理工类</td>\n      <td>大一</td>\n      <td>外向型</td>\n      <td>用手机上网</td>\n      <td>7-14小时</td>\n      <td>是</td>\n      <td>平时有时间就使用</td>\n      <td>大多数时候会</td>\n      <td>...</td>\n      <td>教师传授┋课后消化┋评价反馈┋其他</td>\n      <td>0.020141</td>\n      <td>0.018238</td>\n      <td>0.021545</td>\n      <td>0.016119</td>\n      <td>0.021421</td>\n      <td>0.002893</td>\n      <td>0.014283</td>\n      <td>0.831595</td>\n      <td>139</td>\n    </tr>\n    <tr>\n      <th>4602</th>\n      <td>4603</td>\n      <td>男</td>\n      <td>理工类</td>\n      <td>大一</td>\n      <td>外向型</td>\n      <td>在寝室用笔记本上网</td>\n      <td>7小时以下</td>\n      <td>是</td>\n      <td>平时有时间就使用</td>\n      <td>大多数时候会</td>\n      <td>...</td>\n      <td>教师传授┋课后消化┋评价反馈┋其他</td>\n      <td>0.018370</td>\n      <td>0.018716</td>\n      <td>0.021069</td>\n      <td>0.013827</td>\n      <td>0.021421</td>\n      <td>0.003653</td>\n      <td>0.013639</td>\n      <td>0.788744</td>\n      <td>259</td>\n    </tr>\n    <tr>\n      <th>4603</th>\n      <td>4604</td>\n      <td>男</td>\n      <td>理工类</td>\n      <td>大一</td>\n      <td>安静型</td>\n      <td>用手机上网</td>\n      <td>7-14小时</td>\n      <td>是</td>\n      <td>说不清</td>\n      <td>有时会</td>\n      <td>...</td>\n      <td>教师传授┋课后消化┋评价反馈┋其他</td>\n      <td>0.019690</td>\n      <td>0.010938</td>\n      <td>0.016330</td>\n      <td>0.017034</td>\n      <td>0.022921</td>\n      <td>0.005157</td>\n      <td>0.013208</td>\n      <td>0.719192</td>\n      <td>566</td>\n    </tr>\n    <tr>\n      <th>4604</th>\n      <td>4605</td>\n      <td>女</td>\n      <td>理工类</td>\n      <td>大一</td>\n      <td>坚定型</td>\n      <td>用手机上网</td>\n      <td>14-20小时</td>\n      <td>是</td>\n      <td>说不清</td>\n      <td>很少会</td>\n      <td>...</td>\n      <td>课后消化</td>\n      <td>0.011807</td>\n      <td>0.008196</td>\n      <td>0.012254</td>\n      <td>0.013364</td>\n      <td>0.012375</td>\n      <td>0.010203</td>\n      <td>0.006172</td>\n      <td>0.376913</td>\n      <td>3712</td>\n    </tr>\n  </tbody>\n</table>\n<p>4605 rows × 40 columns</p>\n</div>"
     },
     "execution_count": 15,
     "metadata": {},
     "output_type": "execute_result"
    }
   ],
   "source": [
    "df = pd.read_excel('Q1-5问题topsis和原始问卷汇总结果.xlsx')\n",
    "df"
   ],
   "metadata": {
    "collapsed": false,
    "ExecuteTime": {
     "end_time": "2023-05-28T14:24:33.410387Z",
     "start_time": "2023-05-28T14:24:30.181197200Z"
    }
   }
  },
  {
   "cell_type": "code",
   "execution_count": 17,
   "outputs": [
    {
     "data": {
      "text/plain": "Index(['序号', '1、您的性别(1-22题为单选题)', '2、您的专业', '3、您所在的年级', '4、您的性格',\n       '5、您最常通过哪种方式上网？', '6、您每周的上网时长大约是多少？', '7、您是否使用过学习软件工具？',\n       '8、您是在什么时间使用学习软件工具呢？', '9、您会将自己的资料传到网上和别人进行分享吗？',\n       '10、您是否想获取全国各高校的学习资源？', '11、您的老师是否推荐过同学们使用过某种学习软件？',\n       '12、若有人工智能学习工具，您是否会选择使用？', '13、您是否有通过人工智能学习工具帮助完成作业的想法？',\n       '14、您是否有通过人工智能学习工具帮您完成小测验的想法？', '15、您是否有通过人工智能学习工具帮助您完成论文的想法？',\n       '16、若有人工智能学习工具，影响您使用人工智能学习软件的原因是什么？', '17、对于大学生使用人工智能学习工具您是否赞同？',\n       '18、若您使用人工智能学习工具最不希望出现以下哪些事？', '19、您对人工智能学习工具回答问题的可信度持何种态度？',\n       '20、如果您使用人工智能学习工具，更希望得到什么的效果？', '21、您觉得人工智能工具在未来是否可以取代教师？',\n       '22、当人工智能工具与教育结合到一定程度时，您觉得学生该如何去适应？', '23、在网络中您主要进行哪些活动？',\n       '24、您认为学习软件与课堂教学相比较最大的优势是什么？', '25、进入大学后在学习中困扰您的问题是什么？',\n       '26、对于利用学习软件进行学习这种形式，您最关注的是', '27、您考虑过使用人工智能工具的哪些安全性？',\n       '28、您认为以下哪些方面对人工智能学习工具很重要？', '29、您心目中的人工智能学习工具应该具有以下哪些功能？',\n       '30、您认为人工智能学习工具融合到哪个学习环节？', '对AI的需求程度(Q1)', '对网络认识的深度(Q2)',\n       '倾向于使用软件进行的程度(Q3)', '对学习的热爱程度(Q4)', '对AI的认可程度(Q5)', '正理想解', '负理想解',\n       '综合得分指数', '排序'],\n      dtype='object')"
     },
     "execution_count": 17,
     "metadata": {},
     "output_type": "execute_result"
    }
   ],
   "source": [
    "df.columns"
   ],
   "metadata": {
    "collapsed": false,
    "ExecuteTime": {
     "end_time": "2023-05-28T14:24:48.997620200Z",
     "start_time": "2023-05-28T14:24:48.992620300Z"
    }
   }
  },
  {
   "cell_type": "code",
   "execution_count": 27,
   "outputs": [
    {
     "data": {
      "text/plain": "<Figure size 640x480 with 1 Axes>",
      "image/png": "[encoded data removed]"
     },
     "metadata": {},
     "output_type": "display_data"
    }
   ],
   "source": [
    "df['1、您的性别(1-22题为单选题)'].value_counts().plot(kind='pie', autopct='%.2f%%')\n",
    "plt.ylabel('')\n",
    "plt.show()"
   ],
   "metadata": {
    "collapsed": false,
    "ExecuteTime": {
     "end_time": "2023-05-28T14:27:11.842278Z",
     "start_time": "2023-05-28T14:27:11.772277800Z"
    }
   }
  },
  {
   "cell_type": "code",
   "execution_count": 33,
   "outputs": [
    {
     "data": {
      "text/plain": "<Figure size 640x480 with 1 Axes>",
      "image/png": "[encoded data removed]"
     },
     "metadata": {},
     "output_type": "display_data"
    }
   ],
   "source": [
    "import matplotlib.pyplot as plt\n",
    "\n",
    "# defining labels\n",
    "genus = ['Bacteroides', 'Lachnospira', 'Roseburia', 'Blautia']\n",
    "\n",
    "# portion covered by each label\n",
    "slices = [3, 7, 8, 6]\n",
    "\n",
    "# color for each label\n",
    "colors = ['r', 'b', 'g', 'y']\n",
    "\n",
    "# plotting the pie chart\n",
    "plt.pie(slices, labels=genus, colors=colors,\n",
    "        startangle=110, shadow=True, explode=(0.05, 0.05, 0.1, 0.05),\n",
    "        radius=1.0, autopct='%1.1f%%')\n",
    "\n",
    "# plotting legend\n",
    "plt.legend()\n",
    "\n",
    "# showing the plot\n",
    "plt.show()"
   ],
   "metadata": {
    "collapsed": false,
    "ExecuteTime": {
     "end_time": "2023-05-28T14:35:44.140440500Z",
     "start_time": "2023-05-28T14:35:44.005807Z"
    }
   }
  }
 ],
 "metadata": {
  "kernelspec": {
   "display_name": "Python 3",
   "language": "python",
   "name": "python3"
  },
  "language_info": {
   "codemirror_mode": {
    "name": "ipython",
    "version": 2
   },
   "file_extension": ".py",
   "mimetype": "text/x-python",
   "name": "python",
   "nbconvert_exporter": "python",
   "pygments_lexer": "ipython2",
   "version": "2.7.6"
  }
 },
 "nbformat": 4,
 "nbformat_minor": 0
}
